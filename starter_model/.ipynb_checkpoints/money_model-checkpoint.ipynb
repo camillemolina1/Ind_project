{
 "cells": [
  {
   "cell_type": "code",
   "execution_count": 36,
   "id": "b9e3f03c",
   "metadata": {
    "scrolled": false
   },
   "outputs": [],
   "source": [
    "from money_model import MoneyModel\n",
    "\n",
    "from mesa import Agent, Model\n",
    "from mesa.time import RandomActivation\n",
    "from mesa.space import MultiGrid\n",
    "from mesa.datacollection import DataCollector\n",
    "\n",
    "import numpy as np\n",
    "import pandas as pd\n",
    "import seaborn as sns   # data visualization tools\n",
    "import copy\n",
    "\n",
    "\n",
    "class MoneyAgent(Agent):\n",
    "    \"\"\"An agent with fixed initial wealth.\"\"\"\n",
    "\n",
    "    def __init__(self, unique_id, model):\n",
    "        super().__init__(unique_id, model)\n",
    "        self.wealth = 1\n",
    "\n",
    "    def move(self):\n",
    "        possible_steps = self.model.grid.get_neighborhood(\n",
    "            self.pos, moore=True, include_center=False\n",
    "        )\n",
    "        new_position = self.random.choice(possible_steps)\n",
    "        self.model.grid.move_agent(self, new_position)\n",
    "\n",
    "    def give_money(self):\n",
    "        cellmates = self.model.grid.get_cell_list_contents([self.pos])\n",
    "        if len(cellmates) > 1:\n",
    "            other_agent = self.random.choice(cellmates)\n",
    "            other_agent.wealth += 1\n",
    "            self.wealth -= 1\n",
    "\n",
    "    def step(self):\n",
    "        print(f\"Hi, I am an agent, I have {str(self.unique_id)}.\")\n",
    "         if self.wealth > 0:\n",
    "                self.give_money()\n",
    "        print(f\"Now I have: {str(self.unique_id)}.\")\n",
    "         self.move()\n",
    "\n",
    "\n",
    "class MoneyModel(Model):\n",
    "    \"\"\"A model with some number of agents.\"\"\"\n",
    "\n",
    "    def __init__(self, N, width, height):\n",
    "        self.num_agents = N\n",
    "        self.grid = MultiGrid(width, height, True)\n",
    "        self.schedule = RandomActivation(self)\n",
    "        self.running = True\n",
    "        # Create agents\n",
    "        for i in range(self.num_agents):\n",
    "            a = MoneyAgent(i, self)\n",
    "            self.schedule.add(a)\n",
    "            # Add the agent to a random grid cell\n",
    "            x = self.random.randrange(self.grid.width)\n",
    "            y = self.random.randrange(self.grid.height)\n",
    "            self.grid.place_agent(a, (x, y))\n",
    "\n",
    "    def step(self):\n",
    "        self.schedule.step()"
   ]
  },
  {
   "cell_type": "code",
   "execution_count": 37,
   "id": "8ea59fce",
   "metadata": {},
   "outputs": [],
   "source": [
    "def run():\n",
    "    model = MoneyModel(10, 10, 10)\n",
    "    for i in range(20):\n",
    "        model.step()"
   ]
  },
  {
   "cell_type": "code",
   "execution_count": 44,
   "id": "9ae9a87a",
   "metadata": {
    "scrolled": true
   },
   "outputs": [
    {
     "name": "stdout",
     "output_type": "stream",
     "text": [
      "Interface starting at http://127.0.0.1:8521\n"
     ]
    },
    {
     "ename": "OSError",
     "evalue": "[WinError 10048] Only one usage of each socket address (protocol/network address/port) is normally permitted",
     "output_type": "error",
     "traceback": [
      "\u001b[1;31m---------------------------------------------------------------------------\u001b[0m",
      "\u001b[1;31mOSError\u001b[0m                                   Traceback (most recent call last)",
      "Cell \u001b[1;32mIn[44], line 27\u001b[0m\n\u001b[0;32m     22\u001b[0m server \u001b[38;5;241m=\u001b[39m mesa\u001b[38;5;241m.\u001b[39mvisualization\u001b[38;5;241m.\u001b[39mModularServer(\n\u001b[0;32m     23\u001b[0m     MoneyModel, [grid], \u001b[38;5;124m\"\u001b[39m\u001b[38;5;124mMoney Model\u001b[39m\u001b[38;5;124m\"\u001b[39m, {\u001b[38;5;124m\"\u001b[39m\u001b[38;5;124mN\u001b[39m\u001b[38;5;124m\"\u001b[39m: \u001b[38;5;241m100\u001b[39m, \u001b[38;5;124m\"\u001b[39m\u001b[38;5;124mwidth\u001b[39m\u001b[38;5;124m\"\u001b[39m: \u001b[38;5;241m10\u001b[39m, \u001b[38;5;124m\"\u001b[39m\u001b[38;5;124mheight\u001b[39m\u001b[38;5;124m\"\u001b[39m: \u001b[38;5;241m10\u001b[39m}\n\u001b[0;32m     24\u001b[0m )\n\u001b[0;32m     26\u001b[0m server\u001b[38;5;241m.\u001b[39mport \u001b[38;5;241m=\u001b[39m \u001b[38;5;241m8521\u001b[39m\n\u001b[1;32m---> 27\u001b[0m server\u001b[38;5;241m.\u001b[39mlaunch()\n",
      "File \u001b[1;32m~\\anaconda3\\Lib\\site-packages\\mesa_viz_tornado\\ModularVisualization.py:402\u001b[0m, in \u001b[0;36mModularServer.launch\u001b[1;34m(self, port, open_browser)\u001b[0m\n\u001b[0;32m    400\u001b[0m url \u001b[38;5;241m=\u001b[39m \u001b[38;5;124mf\u001b[39m\u001b[38;5;124m\"\u001b[39m\u001b[38;5;124mhttp://127.0.0.1:\u001b[39m\u001b[38;5;132;01m{\u001b[39;00m\u001b[38;5;28mself\u001b[39m\u001b[38;5;241m.\u001b[39mport\u001b[38;5;132;01m}\u001b[39;00m\u001b[38;5;124m\"\u001b[39m\n\u001b[0;32m    401\u001b[0m \u001b[38;5;28mprint\u001b[39m(\u001b[38;5;124mf\u001b[39m\u001b[38;5;124m\"\u001b[39m\u001b[38;5;124mInterface starting at \u001b[39m\u001b[38;5;132;01m{\u001b[39;00murl\u001b[38;5;132;01m}\u001b[39;00m\u001b[38;5;124m\"\u001b[39m)\n\u001b[1;32m--> 402\u001b[0m \u001b[38;5;28mself\u001b[39m\u001b[38;5;241m.\u001b[39mlisten(\u001b[38;5;28mself\u001b[39m\u001b[38;5;241m.\u001b[39mport)\n\u001b[0;32m    403\u001b[0m \u001b[38;5;28;01mif\u001b[39;00m open_browser:\n\u001b[0;32m    404\u001b[0m     webbrowser\u001b[38;5;241m.\u001b[39mopen(url)\n",
      "File \u001b[1;32m~\\anaconda3\\Lib\\site-packages\\tornado\\web.py:2207\u001b[0m, in \u001b[0;36mApplication.listen\u001b[1;34m(self, port, address, family, backlog, flags, reuse_port, **kwargs)\u001b[0m\n\u001b[0;32m   2184\u001b[0m \u001b[38;5;250m\u001b[39m\u001b[38;5;124;03m\"\"\"Starts an HTTP server for this application on the given port.\u001b[39;00m\n\u001b[0;32m   2185\u001b[0m \n\u001b[0;32m   2186\u001b[0m \u001b[38;5;124;03mThis is a convenience alias for creating an `.HTTPServer` object and\u001b[39;00m\n\u001b[1;32m   (...)\u001b[0m\n\u001b[0;32m   2204\u001b[0m \u001b[38;5;124;03m   including ``reuse_port``.\u001b[39;00m\n\u001b[0;32m   2205\u001b[0m \u001b[38;5;124;03m\"\"\"\u001b[39;00m\n\u001b[0;32m   2206\u001b[0m server \u001b[38;5;241m=\u001b[39m HTTPServer(\u001b[38;5;28mself\u001b[39m, \u001b[38;5;241m*\u001b[39m\u001b[38;5;241m*\u001b[39mkwargs)\n\u001b[1;32m-> 2207\u001b[0m server\u001b[38;5;241m.\u001b[39mlisten(\n\u001b[0;32m   2208\u001b[0m     port,\n\u001b[0;32m   2209\u001b[0m     address\u001b[38;5;241m=\u001b[39maddress,\n\u001b[0;32m   2210\u001b[0m     family\u001b[38;5;241m=\u001b[39mfamily,\n\u001b[0;32m   2211\u001b[0m     backlog\u001b[38;5;241m=\u001b[39mbacklog,\n\u001b[0;32m   2212\u001b[0m     flags\u001b[38;5;241m=\u001b[39mflags,\n\u001b[0;32m   2213\u001b[0m     reuse_port\u001b[38;5;241m=\u001b[39mreuse_port,\n\u001b[0;32m   2214\u001b[0m )\n\u001b[0;32m   2215\u001b[0m \u001b[38;5;28;01mreturn\u001b[39;00m server\n",
      "File \u001b[1;32m~\\anaconda3\\Lib\\site-packages\\tornado\\tcpserver.py:183\u001b[0m, in \u001b[0;36mTCPServer.listen\u001b[1;34m(self, port, address, family, backlog, flags, reuse_port)\u001b[0m\n\u001b[0;32m    159\u001b[0m \u001b[38;5;28;01mdef\u001b[39;00m \u001b[38;5;21mlisten\u001b[39m(\n\u001b[0;32m    160\u001b[0m     \u001b[38;5;28mself\u001b[39m,\n\u001b[0;32m    161\u001b[0m     port: \u001b[38;5;28mint\u001b[39m,\n\u001b[1;32m   (...)\u001b[0m\n\u001b[0;32m    166\u001b[0m     reuse_port: \u001b[38;5;28mbool\u001b[39m \u001b[38;5;241m=\u001b[39m \u001b[38;5;28;01mFalse\u001b[39;00m,\n\u001b[0;32m    167\u001b[0m ) \u001b[38;5;241m-\u001b[39m\u001b[38;5;241m>\u001b[39m \u001b[38;5;28;01mNone\u001b[39;00m:\n\u001b[0;32m    168\u001b[0m \u001b[38;5;250m    \u001b[39m\u001b[38;5;124;03m\"\"\"Starts accepting connections on the given port.\u001b[39;00m\n\u001b[0;32m    169\u001b[0m \n\u001b[0;32m    170\u001b[0m \u001b[38;5;124;03m    This method may be called more than once to listen on multiple ports.\u001b[39;00m\n\u001b[1;32m   (...)\u001b[0m\n\u001b[0;32m    181\u001b[0m \u001b[38;5;124;03m       arguments to match `tornado.netutil.bind_sockets`.\u001b[39;00m\n\u001b[0;32m    182\u001b[0m \u001b[38;5;124;03m    \"\"\"\u001b[39;00m\n\u001b[1;32m--> 183\u001b[0m     sockets \u001b[38;5;241m=\u001b[39m bind_sockets(\n\u001b[0;32m    184\u001b[0m         port,\n\u001b[0;32m    185\u001b[0m         address\u001b[38;5;241m=\u001b[39maddress,\n\u001b[0;32m    186\u001b[0m         family\u001b[38;5;241m=\u001b[39mfamily,\n\u001b[0;32m    187\u001b[0m         backlog\u001b[38;5;241m=\u001b[39mbacklog,\n\u001b[0;32m    188\u001b[0m         flags\u001b[38;5;241m=\u001b[39mflags,\n\u001b[0;32m    189\u001b[0m         reuse_port\u001b[38;5;241m=\u001b[39mreuse_port,\n\u001b[0;32m    190\u001b[0m     )\n\u001b[0;32m    191\u001b[0m     \u001b[38;5;28mself\u001b[39m\u001b[38;5;241m.\u001b[39madd_sockets(sockets)\n",
      "File \u001b[1;32m~\\anaconda3\\Lib\\site-packages\\tornado\\netutil.py:162\u001b[0m, in \u001b[0;36mbind_sockets\u001b[1;34m(port, address, family, backlog, flags, reuse_port)\u001b[0m\n\u001b[0;32m    160\u001b[0m sock\u001b[38;5;241m.\u001b[39msetblocking(\u001b[38;5;28;01mFalse\u001b[39;00m)\n\u001b[0;32m    161\u001b[0m \u001b[38;5;28;01mtry\u001b[39;00m:\n\u001b[1;32m--> 162\u001b[0m     sock\u001b[38;5;241m.\u001b[39mbind(sockaddr)\n\u001b[0;32m    163\u001b[0m \u001b[38;5;28;01mexcept\u001b[39;00m \u001b[38;5;167;01mOSError\u001b[39;00m \u001b[38;5;28;01mas\u001b[39;00m e:\n\u001b[0;32m    164\u001b[0m     \u001b[38;5;28;01mif\u001b[39;00m (\n\u001b[0;32m    165\u001b[0m         errno_from_exception(e) \u001b[38;5;241m==\u001b[39m errno\u001b[38;5;241m.\u001b[39mEADDRNOTAVAIL\n\u001b[0;32m    166\u001b[0m         \u001b[38;5;129;01mand\u001b[39;00m address \u001b[38;5;241m==\u001b[39m \u001b[38;5;124m\"\u001b[39m\u001b[38;5;124mlocalhost\u001b[39m\u001b[38;5;124m\"\u001b[39m\n\u001b[1;32m   (...)\u001b[0m\n\u001b[0;32m    178\u001b[0m         \u001b[38;5;66;03m# might be a real problem like a typo in a\u001b[39;00m\n\u001b[0;32m    179\u001b[0m         \u001b[38;5;66;03m# configuration.\u001b[39;00m\n",
      "\u001b[1;31mOSError\u001b[0m: [WinError 10048] Only one usage of each socket address (protocol/network address/port) is normally permitted"
     ]
    },
    {
     "name": "stdout",
     "output_type": "stream",
     "text": [
      "Socket opened!\n",
      "{\"type\":\"reset\"}\n",
      "{\"type\":\"get_step\",\"step\":1}\n",
      "Socket opened!\n",
      "{\"type\":\"reset\"}\n",
      "{\"type\":\"get_step\",\"step\":1}\n"
     ]
    }
   ],
   "source": [
    "from money_model import mesa, MoneyModel\n",
    "\n",
    "def agent_portrayal(agent):\n",
    "    portrayal = {\n",
    "        \"Shape\": \"circle\",\n",
    "        \"Color\": \"red\",\n",
    "        \"Filled\": \"true\",\n",
    "        \"Layer\": 0,\n",
    "        \"r\": 0.5,\n",
    "    }\n",
    "    if agent.wealth > 0:\n",
    "        portrayal[\"Color\"] = \"red\"\n",
    "        portrayal[\"Layer\"] = 0\n",
    "    else:\n",
    "        portrayal[\"Color\"] = \"grey\"\n",
    "        portrayal[\"Layer\"] = 1\n",
    "        portrayal[\"r\"] = 0.2\n",
    "    return portrayal\n",
    "\n",
    "grid = mesa.visualization.CanvasGrid(agent_portrayal, 10, 10, 500, 500)\n",
    "\n",
    "server = mesa.visualization.ModularServer(\n",
    "    MoneyModel, [grid], \"Money Model\", {\"N\": 100, \"width\": 10, \"height\": 10}\n",
    ")\n",
    "\n",
    "server.port = 8521\n",
    "server.launch()"
   ]
  },
  {
   "cell_type": "code",
   "execution_count": 43,
   "id": "172a2404",
   "metadata": {},
   "outputs": [
    {
     "ename": "AttributeError",
     "evalue": "'MoneyModel' object has no attribute '_steps'",
     "output_type": "error",
     "traceback": [
      "\u001b[1;31m---------------------------------------------------------------------------\u001b[0m",
      "\u001b[1;31mAttributeError\u001b[0m                            Traceback (most recent call last)",
      "Cell \u001b[1;32mIn[43], line 1\u001b[0m\n\u001b[1;32m----> 1\u001b[0m run()\n",
      "Cell \u001b[1;32mIn[37], line 4\u001b[0m, in \u001b[0;36mrun\u001b[1;34m()\u001b[0m\n\u001b[0;32m      2\u001b[0m model \u001b[38;5;241m=\u001b[39m MoneyModel(\u001b[38;5;241m10\u001b[39m, \u001b[38;5;241m10\u001b[39m, \u001b[38;5;241m10\u001b[39m)\n\u001b[0;32m      3\u001b[0m \u001b[38;5;28;01mfor\u001b[39;00m i \u001b[38;5;129;01min\u001b[39;00m \u001b[38;5;28mrange\u001b[39m(\u001b[38;5;241m20\u001b[39m):\n\u001b[1;32m----> 4\u001b[0m     model\u001b[38;5;241m.\u001b[39mstep()\n",
      "File \u001b[1;32m~\\uni\\year3\\IndProject\\Ind_project (git)\\starter_model\\money_model.py:58\u001b[0m, in \u001b[0;36mMoneyModel.step\u001b[1;34m(self)\u001b[0m\n\u001b[0;32m     56\u001b[0m \u001b[38;5;250m\u001b[39m\u001b[38;5;124;03m\"\"\"Advance the model by one step.\"\"\"\u001b[39;00m\n\u001b[0;32m     57\u001b[0m \u001b[38;5;66;03m# The model's step will go here for now this will call the step method of each agent and print the agent's unique_id\u001b[39;00m\n\u001b[1;32m---> 58\u001b[0m \u001b[38;5;28mself\u001b[39m\u001b[38;5;241m.\u001b[39mschedule\u001b[38;5;241m.\u001b[39mstep()\n",
      "File \u001b[1;32m~\\anaconda3\\Lib\\site-packages\\mesa\\time.py:123\u001b[0m, in \u001b[0;36mBaseScheduler._wrapped_step\u001b[1;34m(self)\u001b[0m\n\u001b[0;32m    121\u001b[0m \u001b[38;5;250m\u001b[39m\u001b[38;5;124;03m\"\"\"Wrapper for the step method to include time and step updating.\"\"\"\u001b[39;00m\n\u001b[0;32m    122\u001b[0m \u001b[38;5;28mself\u001b[39m\u001b[38;5;241m.\u001b[39m_original_step()\n\u001b[1;32m--> 123\u001b[0m \u001b[38;5;28mself\u001b[39m\u001b[38;5;241m.\u001b[39mmodel\u001b[38;5;241m.\u001b[39m_advance_time()\n",
      "File \u001b[1;32m~\\anaconda3\\Lib\\site-packages\\mesa\\model.py:122\u001b[0m, in \u001b[0;36mModel._advance_time\u001b[1;34m(self, deltat)\u001b[0m\n\u001b[0;32m    120\u001b[0m \u001b[38;5;28;01mdef\u001b[39;00m \u001b[38;5;21m_advance_time\u001b[39m(\u001b[38;5;28mself\u001b[39m, deltat: TimeT \u001b[38;5;241m=\u001b[39m \u001b[38;5;241m1\u001b[39m):\n\u001b[0;32m    121\u001b[0m \u001b[38;5;250m    \u001b[39m\u001b[38;5;124;03m\"\"\"Increment the model's steps counter and clock.\"\"\"\u001b[39;00m\n\u001b[1;32m--> 122\u001b[0m     \u001b[38;5;28mself\u001b[39m\u001b[38;5;241m.\u001b[39m_steps \u001b[38;5;241m+\u001b[39m\u001b[38;5;241m=\u001b[39m \u001b[38;5;241m1\u001b[39m\n\u001b[0;32m    123\u001b[0m     \u001b[38;5;28mself\u001b[39m\u001b[38;5;241m.\u001b[39m_time \u001b[38;5;241m+\u001b[39m\u001b[38;5;241m=\u001b[39m deltat\n",
      "\u001b[1;31mAttributeError\u001b[0m: 'MoneyModel' object has no attribute '_steps'"
     ]
    }
   ],
   "source": [
    "run()"
   ]
  },
  {
   "cell_type": "code",
   "execution_count": null,
   "id": "8e60fb76",
   "metadata": {},
   "outputs": [],
   "source": []
  }
 ],
 "metadata": {
  "kernelspec": {
   "display_name": "Python 3 (ipykernel)",
   "language": "python",
   "name": "python3"
  },
  "language_info": {
   "codemirror_mode": {
    "name": "ipython",
    "version": 3
   },
   "file_extension": ".py",
   "mimetype": "text/x-python",
   "name": "python",
   "nbconvert_exporter": "python",
   "pygments_lexer": "ipython3",
   "version": "3.11.4"
  }
 },
 "nbformat": 4,
 "nbformat_minor": 5
}
